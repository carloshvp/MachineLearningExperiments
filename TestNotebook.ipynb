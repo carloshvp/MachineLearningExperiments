{
  "nbformat": 4,
  "nbformat_minor": 0,
  "metadata": {
    "colab": {
      "name": "TestNotebook.ipynb",
      "provenance": [],
      "authorship_tag": "ABX9TyOC4BRiSPmoMDks0cOD9QZ+",
      "include_colab_link": true
    },
    "kernelspec": {
      "name": "python3",
      "display_name": "Python 3"
    }
  },
  "cells": [
    {
      "cell_type": "markdown",
      "metadata": {
        "id": "view-in-github",
        "colab_type": "text"
      },
      "source": [
        "<a href=\"https://colab.research.google.com/github/carloshvp/MachineLearningExperiments/blob/master/TestNotebook.ipynb\" target=\"_parent\"><img src=\"https://colab.research.google.com/assets/colab-badge.svg\" alt=\"Open In Colab\"/></a>"
      ]
    },
    {
      "cell_type": "markdown",
      "metadata": {
        "id": "ypeewRT1TL9F",
        "colab_type": "text"
      },
      "source": [
        "# Welcome to myself!\n",
        "I am doing here some experiments. The best would be to be able to save these noteboos into a Github repo, at the moment they are saved in Google Drive. I will fix that later\n",
        "\n",
        "Here a code snippet to see how it looks like:\n",
        "\n",
        "`print (\"Hello World!\")`"
      ]
    },
    {
      "cell_type": "code",
      "metadata": {
        "id": "8Sc_5i1TSvLk",
        "colab_type": "code",
        "outputId": "4395be15-da84-4a88-8443-fe4d8f46d28e",
        "colab": {
          "base_uri": "https://localhost:8080/",
          "height": 34
        }
      },
      "source": [
        "print(\"Hello World again, faster!!\")"
      ],
      "execution_count": 0,
      "outputs": [
        {
          "output_type": "stream",
          "text": [
            "Hello World again, faster!!\n"
          ],
          "name": "stdout"
        }
      ]
    },
    {
      "cell_type": "markdown",
      "metadata": {
        "id": "zGuKdpA7UEw7",
        "colab_type": "text"
      },
      "source": [
        "# Section 2"
      ]
    },
    {
      "cell_type": "code",
      "metadata": {
        "id": "IsexbPPITZ0O",
        "colab_type": "code",
        "outputId": "2af6035e-6ff3-4876-e692-889cce7d53cf",
        "colab": {
          "base_uri": "https://localhost:8080/",
          "height": 34
        }
      },
      "source": [
        "print(\"Lets say I want to change a couple of lines here and commit again to Github from Colaboratory\")"
      ],
      "execution_count": 1,
      "outputs": [
        {
          "output_type": "stream",
          "text": [
            "Lets say I want to change a couple of lines here and commit again to Github from Colaboratory\n"
          ],
          "name": "stdout"
        }
      ]
    },
    {
      "cell_type": "code",
      "metadata": {
        "id": "yiCCmrSDUIm_",
        "colab_type": "code",
        "colab": {}
      },
      "source": [
        ""
      ],
      "execution_count": 0,
      "outputs": []
    }
  ]
}